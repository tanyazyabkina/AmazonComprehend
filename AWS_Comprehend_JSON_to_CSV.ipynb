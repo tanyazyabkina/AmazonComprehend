{
 "cells": [
  {
   "cell_type": "markdown",
   "metadata": {},
   "source": [
    "# Processing AWS Comprehend Output Files"
   ]
  },
  {
   "cell_type": "markdown",
   "metadata": {},
   "source": [
    "This code converts output of AWS Comprehend (JSON files) into dataframes. Dataframes can be analyzed in python or outputted into CSV file for analysis elsewhere. \n",
    "The code covers three types of outputs:\n",
    "1. Key Phrases\n",
    "2. Entities\n",
    "3. Sentiment\n",
    "\n",
    "There are generally 2 issues with Amazon Comprehend JSON parsing: 1) they have multiple lines and 2) they have nested JSON dictionaries. The nested dictionaries are addressed in the code, and their names can be changed if needed. "
   ]
  },
  {
   "cell_type": "code",
   "execution_count": 1,
   "metadata": {},
   "outputs": [],
   "source": [
    "import pandas as pd\n",
    "import json\n",
    "import numpy as np"
   ]
  },
  {
   "cell_type": "markdown",
   "metadata": {},
   "source": [
    "## 1. Key Phrases "
   ]
  },
  {
   "cell_type": "code",
   "execution_count": 2,
   "metadata": {},
   "outputs": [
    {
     "data": {
      "text/plain": [
       "3"
      ]
     },
     "execution_count": 2,
     "metadata": {},
     "output_type": "execute_result"
    }
   ],
   "source": [
    "input_file = 'Comprehend\\\\outputs\\\\key_phrases_output.json'\n",
    "\n",
    "# Read JSON into a dictionary   \n",
    "key_phrases = [json.loads(line) for line in open(input_file, 'r')]\n",
    "len(key_phrases)"
   ]
  },
  {
   "cell_type": "code",
   "execution_count": 3,
   "metadata": {},
   "outputs": [],
   "source": [
    "def parse_key_phrases(data):\n",
    "    df = pd.DataFrame() # declare an empty dataframe\n",
    "    nested_json = 'KeyPhrases' # nested sub-dictiptionary to extract data from\n",
    "    for line in data:\n",
    "        dt_temp = pd.DataFrame(line[nested_json])  # extract data from sub-dictionary\n",
    "        other_fields = list(line.keys())\n",
    "        other_fields.remove(nested_json) # remove nested fields\n",
    "        for field in other_fields: \n",
    "            dt_temp[field] = line[field]\n",
    "        \n",
    "        df = df.append(dt_temp, ignore_index = True)\n",
    "        \n",
    "    return(df)"
   ]
  },
  {
   "cell_type": "code",
   "execution_count": 4,
   "metadata": {},
   "outputs": [
    {
     "data": {
      "text/html": [
       "<div>\n",
       "<style scoped>\n",
       "    .dataframe tbody tr th:only-of-type {\n",
       "        vertical-align: middle;\n",
       "    }\n",
       "\n",
       "    .dataframe tbody tr th {\n",
       "        vertical-align: top;\n",
       "    }\n",
       "\n",
       "    .dataframe thead th {\n",
       "        text-align: right;\n",
       "    }\n",
       "</style>\n",
       "<table border=\"1\" class=\"dataframe\">\n",
       "  <thead>\n",
       "    <tr style=\"text-align: right;\">\n",
       "      <th></th>\n",
       "      <th>BeginOffset</th>\n",
       "      <th>EndOffset</th>\n",
       "      <th>Score</th>\n",
       "      <th>Text</th>\n",
       "      <th>File</th>\n",
       "    </tr>\n",
       "  </thead>\n",
       "  <tbody>\n",
       "    <tr>\n",
       "      <th>0</th>\n",
       "      <td>19</td>\n",
       "      <td>28</td>\n",
       "      <td>0.999987</td>\n",
       "      <td>for a spy</td>\n",
       "      <td>amazon_tweets_5000.csv</td>\n",
       "    </tr>\n",
       "    <tr>\n",
       "      <th>1</th>\n",
       "      <td>38</td>\n",
       "      <td>57</td>\n",
       "      <td>0.942875</td>\n",
       "      <td>up labor organizing</td>\n",
       "      <td>amazon_tweets_5000.csv</td>\n",
       "    </tr>\n",
       "    <tr>\n",
       "      <th>2</th>\n",
       "      <td>75</td>\n",
       "      <td>83</td>\n",
       "      <td>0.999999</td>\n",
       "      <td>for this</td>\n",
       "      <td>amazon_tweets_5000.csv</td>\n",
       "    </tr>\n",
       "    <tr>\n",
       "      <th>3</th>\n",
       "      <td>125</td>\n",
       "      <td>152</td>\n",
       "      <td>0.611420</td>\n",
       "      <td>you https://t.co/Pya0UOKINY</td>\n",
       "      <td>amazon_tweets_5000.csv</td>\n",
       "    </tr>\n",
       "    <tr>\n",
       "      <th>4</th>\n",
       "      <td>154</td>\n",
       "      <td>164</td>\n",
       "      <td>0.783439</td>\n",
       "      <td>\"US Amazon</td>\n",
       "      <td>amazon_tweets_5000.csv</td>\n",
       "    </tr>\n",
       "  </tbody>\n",
       "</table>\n",
       "</div>"
      ],
      "text/plain": [
       "   BeginOffset  EndOffset     Score                         Text  \\\n",
       "0           19         28  0.999987                    for a spy   \n",
       "1           38         57  0.942875          up labor organizing   \n",
       "2           75         83  0.999999                     for this   \n",
       "3          125        152  0.611420  you https://t.co/Pya0UOKINY   \n",
       "4          154        164  0.783439                   \"US Amazon   \n",
       "\n",
       "                     File  \n",
       "0  amazon_tweets_5000.csv  \n",
       "1  amazon_tweets_5000.csv  \n",
       "2  amazon_tweets_5000.csv  \n",
       "3  amazon_tweets_5000.csv  \n",
       "4  amazon_tweets_5000.csv  "
      ]
     },
     "execution_count": 4,
     "metadata": {},
     "output_type": "execute_result"
    }
   ],
   "source": [
    "# Parse the data\n",
    "key_phrases_df = parse_key_phrases(key_phrases)\n",
    "key_phrases_df.head()"
   ]
  },
  {
   "cell_type": "markdown",
   "metadata": {},
   "source": [
    "## 2. Entities"
   ]
  },
  {
   "cell_type": "code",
   "execution_count": 5,
   "metadata": {},
   "outputs": [
    {
     "data": {
      "text/plain": [
       "62689"
      ]
     },
     "execution_count": 5,
     "metadata": {},
     "output_type": "execute_result"
    }
   ],
   "source": [
    "input_file = 'Comprehend\\\\outputs\\\\stores_entities.json'\n",
    "\n",
    "# Read JSON into a dictionary   \n",
    "entities = [json.loads(line) for line in open(input_file, 'r')]\n",
    "len(entities)"
   ]
  },
  {
   "cell_type": "code",
   "execution_count": 6,
   "metadata": {},
   "outputs": [],
   "source": [
    "# This function parses entities data into a dataframe\n",
    "def parse_entities(data):\n",
    "    df = pd.DataFrame() # declare an empty dataframe\n",
    "    nested_json = 'Entities' # nested sub-dictiptionary to extract data from\n",
    "    # populate the dataframe\n",
    "    for line in data:\n",
    "        dt_temp = pd.DataFrame(line[nested_json])  # extract data from sub-dictionary\n",
    "        other_fields = list(line.keys())\n",
    "        other_fields.remove(nested_json) # remove nested fields        \n",
    "        for field in other_fields:  # add common fields\n",
    "            dt_temp[field] = line[field]\n",
    "        \n",
    "        df = df.append(dt_temp, ignore_index = True)\n",
    "        \n",
    "    return(df)"
   ]
  },
  {
   "cell_type": "code",
   "execution_count": 7,
   "metadata": {},
   "outputs": [
    {
     "data": {
      "text/html": [
       "<div>\n",
       "<style scoped>\n",
       "    .dataframe tbody tr th:only-of-type {\n",
       "        vertical-align: middle;\n",
       "    }\n",
       "\n",
       "    .dataframe tbody tr th {\n",
       "        vertical-align: top;\n",
       "    }\n",
       "\n",
       "    .dataframe thead th {\n",
       "        text-align: right;\n",
       "    }\n",
       "</style>\n",
       "<table border=\"1\" class=\"dataframe\">\n",
       "  <thead>\n",
       "    <tr style=\"text-align: right;\">\n",
       "      <th></th>\n",
       "      <th>BeginOffset</th>\n",
       "      <th>EndOffset</th>\n",
       "      <th>Score</th>\n",
       "      <th>Text</th>\n",
       "      <th>Type</th>\n",
       "      <th>File</th>\n",
       "      <th>Line</th>\n",
       "    </tr>\n",
       "  </thead>\n",
       "  <tbody>\n",
       "    <tr>\n",
       "      <th>0</th>\n",
       "      <td>1.0</td>\n",
       "      <td>7.0</td>\n",
       "      <td>0.998351</td>\n",
       "      <td>Amazon</td>\n",
       "      <td>ORGANIZATION</td>\n",
       "      <td>amazon_tweets.csv</td>\n",
       "      <td>0</td>\n",
       "    </tr>\n",
       "    <tr>\n",
       "      <th>1</th>\n",
       "      <td>128.0</td>\n",
       "      <td>151.0</td>\n",
       "      <td>0.996499</td>\n",
       "      <td>https://t.co/Pya0UOKINY</td>\n",
       "      <td>OTHER</td>\n",
       "      <td>amazon_tweets.csv</td>\n",
       "      <td>0</td>\n",
       "    </tr>\n",
       "    <tr>\n",
       "      <th>2</th>\n",
       "      <td>1.0</td>\n",
       "      <td>3.0</td>\n",
       "      <td>0.716759</td>\n",
       "      <td>US</td>\n",
       "      <td>ORGANIZATION</td>\n",
       "      <td>amazon_tweets.csv</td>\n",
       "      <td>1</td>\n",
       "    </tr>\n",
       "    <tr>\n",
       "      <th>3</th>\n",
       "      <td>4.0</td>\n",
       "      <td>10.0</td>\n",
       "      <td>0.926377</td>\n",
       "      <td>Amazon</td>\n",
       "      <td>ORGANIZATION</td>\n",
       "      <td>amazon_tweets.csv</td>\n",
       "      <td>1</td>\n",
       "    </tr>\n",
       "    <tr>\n",
       "      <th>4</th>\n",
       "      <td>1.0</td>\n",
       "      <td>2.0</td>\n",
       "      <td>0.533937</td>\n",
       "      <td>1</td>\n",
       "      <td>QUANTITY</td>\n",
       "      <td>amazon_tweets.csv</td>\n",
       "      <td>3</td>\n",
       "    </tr>\n",
       "  </tbody>\n",
       "</table>\n",
       "</div>"
      ],
      "text/plain": [
       "   BeginOffset  EndOffset     Score                     Text          Type  \\\n",
       "0          1.0        7.0  0.998351                   Amazon  ORGANIZATION   \n",
       "1        128.0      151.0  0.996499  https://t.co/Pya0UOKINY         OTHER   \n",
       "2          1.0        3.0  0.716759                       US  ORGANIZATION   \n",
       "3          4.0       10.0  0.926377                   Amazon  ORGANIZATION   \n",
       "4          1.0        2.0  0.533937                        1      QUANTITY   \n",
       "\n",
       "                File  Line  \n",
       "0  amazon_tweets.csv     0  \n",
       "1  amazon_tweets.csv     0  \n",
       "2  amazon_tweets.csv     1  \n",
       "3  amazon_tweets.csv     1  \n",
       "4  amazon_tweets.csv     3  "
      ]
     },
     "execution_count": 7,
     "metadata": {},
     "output_type": "execute_result"
    }
   ],
   "source": [
    "# Produce the dataframe\n",
    "entities_df = parse_entities(entities)\n",
    "entities_df.head()"
   ]
  },
  {
   "cell_type": "markdown",
   "metadata": {},
   "source": [
    "## 3. Sentiment"
   ]
  },
  {
   "cell_type": "code",
   "execution_count": 8,
   "metadata": {},
   "outputs": [
    {
     "data": {
      "text/plain": [
       "29287"
      ]
     },
     "execution_count": 8,
     "metadata": {},
     "output_type": "execute_result"
    }
   ],
   "source": [
    "input_file = 'Comprehend\\\\outputs\\\\sentiment2.json'\n",
    "\n",
    "# Read JSON into a dictionary   \n",
    "sentiment = [json.loads(line) for line in open(input_file, 'r')]\n",
    "len(sentiment)"
   ]
  },
  {
   "cell_type": "code",
   "execution_count": 9,
   "metadata": {},
   "outputs": [],
   "source": [
    "# This function parses sentiment data into a dataframe\n",
    "def parse_sentiment(data):\n",
    "    df = pd.DataFrame() \n",
    "    for line in data:\n",
    "        try:\n",
    "            dt_temp = pd.DataFrame(line['SentimentScore'], index = [0])  # extract data from sub-dictionary\n",
    "            for field in list(line.keys())[:-1]:  # add common fields\n",
    "                dt_temp[field] = line[field]\n",
    "        \n",
    "            df = df.append(dt_temp, ignore_index = True)\n",
    "                  \n",
    "        except:\n",
    "            for field in list(line.keys())[:-1]:  # add common fields\n",
    "                dt_temp[field] = line[field]\n",
    "        \n",
    "            df = df.append(dt_temp, ignore_index = True)\n",
    "    \n",
    "    return(df)"
   ]
  },
  {
   "cell_type": "code",
   "execution_count": 10,
   "metadata": {},
   "outputs": [
    {
     "data": {
      "text/html": [
       "<div>\n",
       "<style scoped>\n",
       "    .dataframe tbody tr th:only-of-type {\n",
       "        vertical-align: middle;\n",
       "    }\n",
       "\n",
       "    .dataframe tbody tr th {\n",
       "        vertical-align: top;\n",
       "    }\n",
       "\n",
       "    .dataframe thead th {\n",
       "        text-align: right;\n",
       "    }\n",
       "</style>\n",
       "<table border=\"1\" class=\"dataframe\">\n",
       "  <thead>\n",
       "    <tr style=\"text-align: right;\">\n",
       "      <th></th>\n",
       "      <th>Mixed</th>\n",
       "      <th>Negative</th>\n",
       "      <th>Neutral</th>\n",
       "      <th>Positive</th>\n",
       "      <th>File</th>\n",
       "      <th>Line</th>\n",
       "      <th>Sentiment</th>\n",
       "    </tr>\n",
       "  </thead>\n",
       "  <tbody>\n",
       "    <tr>\n",
       "      <th>0</th>\n",
       "      <td>2.472798e-06</td>\n",
       "      <td>0.000919</td>\n",
       "      <td>0.933964</td>\n",
       "      <td>0.065115</td>\n",
       "      <td>amazon_tweets.csv</td>\n",
       "      <td>6</td>\n",
       "      <td>NEUTRAL</td>\n",
       "    </tr>\n",
       "    <tr>\n",
       "      <th>1</th>\n",
       "      <td>4.301400e-03</td>\n",
       "      <td>0.443537</td>\n",
       "      <td>0.445010</td>\n",
       "      <td>0.107152</td>\n",
       "      <td>amazon_tweets.csv</td>\n",
       "      <td>11</td>\n",
       "      <td>NEUTRAL</td>\n",
       "    </tr>\n",
       "    <tr>\n",
       "      <th>2</th>\n",
       "      <td>3.433179e-06</td>\n",
       "      <td>0.099203</td>\n",
       "      <td>0.711973</td>\n",
       "      <td>0.188821</td>\n",
       "      <td>amazon_tweets.csv</td>\n",
       "      <td>15</td>\n",
       "      <td>NEUTRAL</td>\n",
       "    </tr>\n",
       "    <tr>\n",
       "      <th>3</th>\n",
       "      <td>6.509443e-06</td>\n",
       "      <td>0.719563</td>\n",
       "      <td>0.171055</td>\n",
       "      <td>0.109375</td>\n",
       "      <td>amazon_tweets.csv</td>\n",
       "      <td>26</td>\n",
       "      <td>NEGATIVE</td>\n",
       "    </tr>\n",
       "    <tr>\n",
       "      <th>4</th>\n",
       "      <td>6.015364e-07</td>\n",
       "      <td>0.000030</td>\n",
       "      <td>0.998039</td>\n",
       "      <td>0.001931</td>\n",
       "      <td>amazon_tweets.csv</td>\n",
       "      <td>30</td>\n",
       "      <td>NEUTRAL</td>\n",
       "    </tr>\n",
       "  </tbody>\n",
       "</table>\n",
       "</div>"
      ],
      "text/plain": [
       "          Mixed  Negative   Neutral  Positive               File  Line  \\\n",
       "0  2.472798e-06  0.000919  0.933964  0.065115  amazon_tweets.csv     6   \n",
       "1  4.301400e-03  0.443537  0.445010  0.107152  amazon_tweets.csv    11   \n",
       "2  3.433179e-06  0.099203  0.711973  0.188821  amazon_tweets.csv    15   \n",
       "3  6.509443e-06  0.719563  0.171055  0.109375  amazon_tweets.csv    26   \n",
       "4  6.015364e-07  0.000030  0.998039  0.001931  amazon_tweets.csv    30   \n",
       "\n",
       "  Sentiment  \n",
       "0   NEUTRAL  \n",
       "1   NEUTRAL  \n",
       "2   NEUTRAL  \n",
       "3  NEGATIVE  \n",
       "4   NEUTRAL  "
      ]
     },
     "execution_count": 10,
     "metadata": {},
     "output_type": "execute_result"
    }
   ],
   "source": [
    "# Process data!\n",
    "sentiment_df = parse_sentiment(sentiment)\n",
    "sentiment_df.head()"
   ]
  },
  {
   "cell_type": "markdown",
   "metadata": {},
   "source": [
    "## Export Data"
   ]
  },
  {
   "cell_type": "code",
   "execution_count": 15,
   "metadata": {},
   "outputs": [],
   "source": [
    "output_path = 'Comprehend\\\\outputs\\\\processed\\\\'\n",
    "name = 'stores.csv'\n",
    "\n",
    "entities_output_name = output_path + 'entities_output_' + name\n",
    "sentiment_output_name = output_path + 'sentiment_output_' + name\n",
    "key_phrases_output_name = output_path + 'keyphrases_output_' + name"
   ]
  },
  {
   "cell_type": "code",
   "execution_count": 16,
   "metadata": {},
   "outputs": [],
   "source": [
    "# Export files\n",
    "entities_df.to_csv(entities_output_name, index = None)\n",
    "sentiment_df.to_csv(sentiment_output_name, index = None)\n",
    "key_phrases_df.to_csv(sentiment_output_name, index = None)"
   ]
  },
  {
   "cell_type": "markdown",
   "metadata": {},
   "source": [
    "## Create Sentiment Charts"
   ]
  },
  {
   "cell_type": "markdown",
   "metadata": {},
   "source": [
    "In this section, I create some distribution charts for sentiment analysis based on AWS Comprehend output."
   ]
  },
  {
   "cell_type": "code",
   "execution_count": 17,
   "metadata": {},
   "outputs": [],
   "source": [
    "import seaborn as sns\n",
    "import matplotlib as plt"
   ]
  },
  {
   "cell_type": "code",
   "execution_count": 18,
   "metadata": {},
   "outputs": [],
   "source": [
    "# Prep the data\n",
    "sentiment_df.File.replace({'amazon_tweets.csv':'Amazon',\n",
    "                           'walmart_tweets.csv':'Walmart',\n",
    "                           'kroger_tweets.csv':'Kroger'},\n",
    "                         inplace = True)\n",
    "sentiment_df.columns = ['Mixed', 'Negative', 'Neutral', 'Positive', 'Store', 'Line', 'Sentiment'] # File-> Store"
   ]
  },
  {
   "cell_type": "markdown",
   "metadata": {},
   "source": [
    "### Counts Plot"
   ]
  },
  {
   "cell_type": "markdown",
   "metadata": {},
   "source": [
    "Tweet count by store brand and sentiment. "
   ]
  },
  {
   "cell_type": "code",
   "execution_count": 19,
   "metadata": {},
   "outputs": [
    {
     "data": {
      "image/png": "[encoded data removed]",
      "text/plain": [
       "<Figure size 432x288 with 1 Axes>"
      ]
     },
     "metadata": {
      "needs_background": "light"
     },
     "output_type": "display_data"
    }
   ],
   "source": [
    "sns.countplot(x = 'Store', hue ='Sentiment' , data = sentiment_df);"
   ]
  },
  {
   "cell_type": "markdown",
   "metadata": {},
   "source": [
    "### Percent Sentiment Plot"
   ]
  },
  {
   "cell_type": "code",
   "execution_count": 20,
   "metadata": {},
   "outputs": [
    {
     "data": {
      "text/html": [
       "<div>\n",
       "<style scoped>\n",
       "    .dataframe tbody tr th:only-of-type {\n",
       "        vertical-align: middle;\n",
       "    }\n",
       "\n",
       "    .dataframe tbody tr th {\n",
       "        vertical-align: top;\n",
       "    }\n",
       "\n",
       "    .dataframe thead th {\n",
       "        text-align: right;\n",
       "    }\n",
       "</style>\n",
       "<table border=\"1\" class=\"dataframe\">\n",
       "  <thead>\n",
       "    <tr style=\"text-align: right;\">\n",
       "      <th></th>\n",
       "      <th>Store</th>\n",
       "      <th>Sentiment</th>\n",
       "      <th>0</th>\n",
       "    </tr>\n",
       "  </thead>\n",
       "  <tbody>\n",
       "    <tr>\n",
       "      <th>0</th>\n",
       "      <td>Amazon</td>\n",
       "      <td>MIXED</td>\n",
       "      <td>0.002400</td>\n",
       "    </tr>\n",
       "    <tr>\n",
       "      <th>1</th>\n",
       "      <td>Amazon</td>\n",
       "      <td>NEGATIVE</td>\n",
       "      <td>0.124600</td>\n",
       "    </tr>\n",
       "    <tr>\n",
       "      <th>2</th>\n",
       "      <td>Amazon</td>\n",
       "      <td>NEUTRAL</td>\n",
       "      <td>0.651100</td>\n",
       "    </tr>\n",
       "    <tr>\n",
       "      <th>3</th>\n",
       "      <td>Amazon</td>\n",
       "      <td>POSITIVE</td>\n",
       "      <td>0.221900</td>\n",
       "    </tr>\n",
       "    <tr>\n",
       "      <th>4</th>\n",
       "      <td>Kroger</td>\n",
       "      <td>MIXED</td>\n",
       "      <td>0.002800</td>\n",
       "    </tr>\n",
       "    <tr>\n",
       "      <th>5</th>\n",
       "      <td>Kroger</td>\n",
       "      <td>NEGATIVE</td>\n",
       "      <td>0.193389</td>\n",
       "    </tr>\n",
       "    <tr>\n",
       "      <th>6</th>\n",
       "      <td>Kroger</td>\n",
       "      <td>NEUTRAL</td>\n",
       "      <td>0.606870</td>\n",
       "    </tr>\n",
       "    <tr>\n",
       "      <th>7</th>\n",
       "      <td>Kroger</td>\n",
       "      <td>POSITIVE</td>\n",
       "      <td>0.196942</td>\n",
       "    </tr>\n",
       "    <tr>\n",
       "      <th>8</th>\n",
       "      <td>Walmart</td>\n",
       "      <td>MIXED</td>\n",
       "      <td>0.004500</td>\n",
       "    </tr>\n",
       "    <tr>\n",
       "      <th>9</th>\n",
       "      <td>Walmart</td>\n",
       "      <td>NEGATIVE</td>\n",
       "      <td>0.254200</td>\n",
       "    </tr>\n",
       "    <tr>\n",
       "      <th>10</th>\n",
       "      <td>Walmart</td>\n",
       "      <td>NEUTRAL</td>\n",
       "      <td>0.620600</td>\n",
       "    </tr>\n",
       "    <tr>\n",
       "      <th>11</th>\n",
       "      <td>Walmart</td>\n",
       "      <td>POSITIVE</td>\n",
       "      <td>0.120700</td>\n",
       "    </tr>\n",
       "  </tbody>\n",
       "</table>\n",
       "</div>"
      ],
      "text/plain": [
       "      Store Sentiment         0\n",
       "0    Amazon     MIXED  0.002400\n",
       "1    Amazon  NEGATIVE  0.124600\n",
       "2    Amazon   NEUTRAL  0.651100\n",
       "3    Amazon  POSITIVE  0.221900\n",
       "4    Kroger     MIXED  0.002800\n",
       "5    Kroger  NEGATIVE  0.193389\n",
       "6    Kroger   NEUTRAL  0.606870\n",
       "7    Kroger  POSITIVE  0.196942\n",
       "8   Walmart     MIXED  0.004500\n",
       "9   Walmart  NEGATIVE  0.254200\n",
       "10  Walmart   NEUTRAL  0.620600\n",
       "11  Walmart  POSITIVE  0.120700"
      ]
     },
     "execution_count": 20,
     "metadata": {},
     "output_type": "execute_result"
    }
   ],
   "source": [
    "percentage = (sentiment_df.groupby(['Store', 'Sentiment']).size()/sentiment_df.groupby(['Store']).size()).reset_index()\n",
    "percentage"
   ]
  },
  {
   "cell_type": "code",
   "execution_count": 21,
   "metadata": {},
   "outputs": [
    {
     "data": {
      "image/png": "[encoded data removed]",
      "text/plain": [
       "<Figure size 432x288 with 1 Axes>"
      ]
     },
     "metadata": {
      "needs_background": "light"
     },
     "output_type": "display_data"
    }
   ],
   "source": [
    "sns.barplot(x = 'Store', hue ='Sentiment', y = 0, data = percentage);"
   ]
  },
  {
   "cell_type": "markdown",
   "metadata": {},
   "source": [
    "Stacked barplot of sentiment by store brand."
   ]
  },
  {
   "cell_type": "code",
   "execution_count": 22,
   "metadata": {},
   "outputs": [
    {
     "data": {
      "image/png": "[encoded data removed]",
      "text/plain": [
       "<Figure size 432x288 with 1 Axes>"
      ]
     },
     "metadata": {
      "needs_background": "light"
     },
     "output_type": "display_data"
    }
   ],
   "source": [
    "percentage.pivot(index = 'Store', columns = 'Sentiment').plot(kind = 'bar',\n",
    "                                                              stacked = True,\n",
    "                                                             title = \"Twitter Sentiment\");"
   ]
  }
 ],
 "metadata": {
  "kernelspec": {
   "display_name": "Python 3",
   "language": "python",
   "name": "python3"
  },
  "language_info": {
   "codemirror_mode": {
    "name": "ipython",
    "version": 3
   },
   "file_extension": ".py",
   "mimetype": "text/x-python",
   "name": "python",
   "nbconvert_exporter": "python",
   "pygments_lexer": "ipython3",
   "version": "3.6.7"
  }
 },
 "nbformat": 4,
 "nbformat_minor": 4
}
